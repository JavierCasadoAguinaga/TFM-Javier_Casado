{
 "cells": [
  {
   "cell_type": "code",
   "execution_count": 2,
   "metadata": {},
   "outputs": [
    {
     "name": "stdout",
     "output_type": "stream",
     "text": [
      "Populating the interactive namespace from numpy and matplotlib\n"
     ]
    }
   ],
   "source": [
    "import pandas as pd\n",
    "from datetime import datetime, timedelta\n",
    "from statsmodels.tsa.statespace.sarimax import SARIMAX\n",
    "import re\n",
    "from statsmodels.tsa.stattools import pacf\n",
    "from statsmodels.graphics.tsaplots import plot_pacf\n",
    "from statsmodels.graphics.tsaplots import plot_acf\n",
    "from statsmodels.tsa.stattools import adfuller\n",
    "from sklearn.tree import DecisionTreeRegressor\n",
    "from sklearn.ensemble import RandomForestRegressor\n",
    "from sklearn.model_selection import train_test_split\n",
    "from sklearn.metrics import mean_absolute_error\n",
    "from sklearn.metrics import mean_squared_error\n",
    "from sklearn.ensemble import GradientBoostingRegressor\n",
    "import pickle\n",
    "import lightgbm as lgb\n",
    "from sklearn.model_selection import RandomizedSearchCV\n",
    "\n",
    "%pylab inline"
   ]
  },
  {
   "cell_type": "code",
   "execution_count": 21,
   "metadata": {},
   "outputs": [],
   "source": [
    "#CARGAMOS EL DATAFRAME CON LAS COLUMNAS QUE NOS INTERESAN PARA EL MODELO\n",
    "dfml = pd.read_csv('df_ml.csv',parse_dates=[0],usecols=['Full_date','Channel','Simul_cast_channel','Sales_house'\n",
    "                                                        ,'Day_name','Month_name'\n",
    "                                                        ,'Public','Year','Hour','Minute','Day_number','Month_number','Week_number'\n",
    "                                                        ,'Time_frame','Genre','Adults_avg_audience'])"
   ]
  },
  {
   "cell_type": "code",
   "execution_count": 18,
   "metadata": {},
   "outputs": [],
   "source": [
    "#CARGAMOS EL DF DE UNA SOLA CADENA PARA PROBAR EL MODELO SARIMAX\n",
    "dfsar = pd.read_csv('SARIMAX/SAR_atres.csv',index_col=0)"
   ]
  },
  {
   "cell_type": "code",
   "execution_count": 13,
   "metadata": {},
   "outputs": [],
   "source": [
    "#ELIMINAMOS LOS REGISTROS DE 2020 QUE VAN DE MARZO EN ADELANTE POR EL COVID\n",
    "df_ant = dfml[dfml.Full_date <= datetime.datetime(2020,2,29,23,59,0)]"
   ]
  },
  {
   "cell_type": "markdown",
   "metadata": {},
   "source": [
    "# Análisis preliminar"
   ]
  },
  {
   "cell_type": "code",
   "execution_count": 45,
   "metadata": {},
   "outputs": [
    {
     "data": {
      "text/html": [
       "<div>\n",
       "<style scoped>\n",
       "    .dataframe tbody tr th:only-of-type {\n",
       "        vertical-align: middle;\n",
       "    }\n",
       "\n",
       "    .dataframe tbody tr th {\n",
       "        vertical-align: top;\n",
       "    }\n",
       "\n",
       "    .dataframe thead th {\n",
       "        text-align: right;\n",
       "    }\n",
       "</style>\n",
       "<table border=\"1\" class=\"dataframe\">\n",
       "  <thead>\n",
       "    <tr style=\"text-align: right;\">\n",
       "      <th></th>\n",
       "      <th>Hour</th>\n",
       "      <th>Minute</th>\n",
       "      <th>Day_number</th>\n",
       "      <th>Week_number</th>\n",
       "      <th>Month_number</th>\n",
       "      <th>Year</th>\n",
       "      <th>Adults_avg_audience</th>\n",
       "    </tr>\n",
       "  </thead>\n",
       "  <tbody>\n",
       "    <tr>\n",
       "      <th>count</th>\n",
       "      <td>2.536146e+07</td>\n",
       "      <td>2.536146e+07</td>\n",
       "      <td>2.536146e+07</td>\n",
       "      <td>2.536146e+07</td>\n",
       "      <td>2.536146e+07</td>\n",
       "      <td>2.536146e+07</td>\n",
       "      <td>2.536146e+07</td>\n",
       "    </tr>\n",
       "    <tr>\n",
       "      <th>mean</th>\n",
       "      <td>1.149642e+01</td>\n",
       "      <td>2.950059e+01</td>\n",
       "      <td>1.566018e+01</td>\n",
       "      <td>2.482690e+01</td>\n",
       "      <td>6.138134e+00</td>\n",
       "      <td>2.018578e+03</td>\n",
       "      <td>6.201662e-01</td>\n",
       "    </tr>\n",
       "    <tr>\n",
       "      <th>std</th>\n",
       "      <td>6.920401e+00</td>\n",
       "      <td>1.731827e+01</td>\n",
       "      <td>8.831668e+00</td>\n",
       "      <td>1.538415e+01</td>\n",
       "      <td>3.544175e+00</td>\n",
       "      <td>9.139804e-01</td>\n",
       "      <td>1.066244e+00</td>\n",
       "    </tr>\n",
       "    <tr>\n",
       "      <th>min</th>\n",
       "      <td>0.000000e+00</td>\n",
       "      <td>0.000000e+00</td>\n",
       "      <td>1.000000e+00</td>\n",
       "      <td>1.000000e+00</td>\n",
       "      <td>1.000000e+00</td>\n",
       "      <td>2.017000e+03</td>\n",
       "      <td>0.000000e+00</td>\n",
       "    </tr>\n",
       "    <tr>\n",
       "      <th>25%</th>\n",
       "      <td>5.000000e+00</td>\n",
       "      <td>1.500000e+01</td>\n",
       "      <td>8.000000e+00</td>\n",
       "      <td>1.200000e+01</td>\n",
       "      <td>3.000000e+00</td>\n",
       "      <td>2.018000e+03</td>\n",
       "      <td>8.000000e-02</td>\n",
       "    </tr>\n",
       "    <tr>\n",
       "      <th>50%</th>\n",
       "      <td>1.100000e+01</td>\n",
       "      <td>3.000000e+01</td>\n",
       "      <td>1.600000e+01</td>\n",
       "      <td>2.400000e+01</td>\n",
       "      <td>6.000000e+00</td>\n",
       "      <td>2.019000e+03</td>\n",
       "      <td>2.470000e-01</td>\n",
       "    </tr>\n",
       "    <tr>\n",
       "      <th>75%</th>\n",
       "      <td>1.700000e+01</td>\n",
       "      <td>4.500000e+01</td>\n",
       "      <td>2.300000e+01</td>\n",
       "      <td>3.800000e+01</td>\n",
       "      <td>9.000000e+00</td>\n",
       "      <td>2.019000e+03</td>\n",
       "      <td>6.330000e-01</td>\n",
       "    </tr>\n",
       "    <tr>\n",
       "      <th>max</th>\n",
       "      <td>2.300000e+01</td>\n",
       "      <td>5.900000e+01</td>\n",
       "      <td>3.100000e+01</td>\n",
       "      <td>5.200000e+01</td>\n",
       "      <td>1.200000e+01</td>\n",
       "      <td>2.020000e+03</td>\n",
       "      <td>9.999000e+00</td>\n",
       "    </tr>\n",
       "  </tbody>\n",
       "</table>\n",
       "</div>"
      ],
      "text/plain": [
       "               Hour        Minute    Day_number   Week_number  Month_number  \\\n",
       "count  2.536146e+07  2.536146e+07  2.536146e+07  2.536146e+07  2.536146e+07   \n",
       "mean   1.149642e+01  2.950059e+01  1.566018e+01  2.482690e+01  6.138134e+00   \n",
       "std    6.920401e+00  1.731827e+01  8.831668e+00  1.538415e+01  3.544175e+00   \n",
       "min    0.000000e+00  0.000000e+00  1.000000e+00  1.000000e+00  1.000000e+00   \n",
       "25%    5.000000e+00  1.500000e+01  8.000000e+00  1.200000e+01  3.000000e+00   \n",
       "50%    1.100000e+01  3.000000e+01  1.600000e+01  2.400000e+01  6.000000e+00   \n",
       "75%    1.700000e+01  4.500000e+01  2.300000e+01  3.800000e+01  9.000000e+00   \n",
       "max    2.300000e+01  5.900000e+01  3.100000e+01  5.200000e+01  1.200000e+01   \n",
       "\n",
       "               Year  Adults_avg_audience  \n",
       "count  2.536146e+07         2.536146e+07  \n",
       "mean   2.018578e+03         6.201662e-01  \n",
       "std    9.139804e-01         1.066244e+00  \n",
       "min    2.017000e+03         0.000000e+00  \n",
       "25%    2.018000e+03         8.000000e-02  \n",
       "50%    2.019000e+03         2.470000e-01  \n",
       "75%    2.019000e+03         6.330000e-01  \n",
       "max    2.020000e+03         9.999000e+00  "
      ]
     },
     "execution_count": 45,
     "metadata": {},
     "output_type": "execute_result"
    }
   ],
   "source": [
    "dfml.describe()"
   ]
  },
  {
   "cell_type": "code",
   "execution_count": 46,
   "metadata": {},
   "outputs": [
    {
     "data": {
      "text/html": [
       "<div>\n",
       "<style scoped>\n",
       "    .dataframe tbody tr th:only-of-type {\n",
       "        vertical-align: middle;\n",
       "    }\n",
       "\n",
       "    .dataframe tbody tr th {\n",
       "        vertical-align: top;\n",
       "    }\n",
       "\n",
       "    .dataframe thead th {\n",
       "        text-align: right;\n",
       "    }\n",
       "</style>\n",
       "<table border=\"1\" class=\"dataframe\">\n",
       "  <thead>\n",
       "    <tr style=\"text-align: right;\">\n",
       "      <th></th>\n",
       "      <th>Hour</th>\n",
       "      <th>Minute</th>\n",
       "      <th>Day_number</th>\n",
       "      <th>Week_number</th>\n",
       "      <th>Month_number</th>\n",
       "      <th>Year</th>\n",
       "      <th>Adults_avg_audience</th>\n",
       "    </tr>\n",
       "  </thead>\n",
       "  <tbody>\n",
       "    <tr>\n",
       "      <th>Hour</th>\n",
       "      <td>1.000000</td>\n",
       "      <td>-0.000028</td>\n",
       "      <td>-0.000056</td>\n",
       "      <td>0.000153</td>\n",
       "      <td>0.000163</td>\n",
       "      <td>-0.000381</td>\n",
       "      <td>0.325149</td>\n",
       "    </tr>\n",
       "    <tr>\n",
       "      <th>Minute</th>\n",
       "      <td>-0.000028</td>\n",
       "      <td>1.000000</td>\n",
       "      <td>-0.000006</td>\n",
       "      <td>0.000014</td>\n",
       "      <td>0.000011</td>\n",
       "      <td>-0.000056</td>\n",
       "      <td>-0.001509</td>\n",
       "    </tr>\n",
       "    <tr>\n",
       "      <th>Day_number</th>\n",
       "      <td>-0.000056</td>\n",
       "      <td>-0.000006</td>\n",
       "      <td>1.000000</td>\n",
       "      <td>0.066750</td>\n",
       "      <td>0.001562</td>\n",
       "      <td>-0.000510</td>\n",
       "      <td>-0.002287</td>\n",
       "    </tr>\n",
       "    <tr>\n",
       "      <th>Week_number</th>\n",
       "      <td>0.000153</td>\n",
       "      <td>0.000014</td>\n",
       "      <td>0.066750</td>\n",
       "      <td>1.000000</td>\n",
       "      <td>0.981569</td>\n",
       "      <td>-0.294069</td>\n",
       "      <td>-0.023246</td>\n",
       "    </tr>\n",
       "    <tr>\n",
       "      <th>Month_number</th>\n",
       "      <td>0.000163</td>\n",
       "      <td>0.000011</td>\n",
       "      <td>0.001562</td>\n",
       "      <td>0.981569</td>\n",
       "      <td>1.000000</td>\n",
       "      <td>-0.302305</td>\n",
       "      <td>-0.024031</td>\n",
       "    </tr>\n",
       "    <tr>\n",
       "      <th>Year</th>\n",
       "      <td>-0.000381</td>\n",
       "      <td>-0.000056</td>\n",
       "      <td>-0.000510</td>\n",
       "      <td>-0.294069</td>\n",
       "      <td>-0.302305</td>\n",
       "      <td>1.000000</td>\n",
       "      <td>0.012587</td>\n",
       "    </tr>\n",
       "    <tr>\n",
       "      <th>Adults_avg_audience</th>\n",
       "      <td>0.325149</td>\n",
       "      <td>-0.001509</td>\n",
       "      <td>-0.002287</td>\n",
       "      <td>-0.023246</td>\n",
       "      <td>-0.024031</td>\n",
       "      <td>0.012587</td>\n",
       "      <td>1.000000</td>\n",
       "    </tr>\n",
       "  </tbody>\n",
       "</table>\n",
       "</div>"
      ],
      "text/plain": [
       "                         Hour    Minute  Day_number  Week_number  \\\n",
       "Hour                 1.000000 -0.000028   -0.000056     0.000153   \n",
       "Minute              -0.000028  1.000000   -0.000006     0.000014   \n",
       "Day_number          -0.000056 -0.000006    1.000000     0.066750   \n",
       "Week_number          0.000153  0.000014    0.066750     1.000000   \n",
       "Month_number         0.000163  0.000011    0.001562     0.981569   \n",
       "Year                -0.000381 -0.000056   -0.000510    -0.294069   \n",
       "Adults_avg_audience  0.325149 -0.001509   -0.002287    -0.023246   \n",
       "\n",
       "                     Month_number      Year  Adults_avg_audience  \n",
       "Hour                     0.000163 -0.000381             0.325149  \n",
       "Minute                   0.000011 -0.000056            -0.001509  \n",
       "Day_number               0.001562 -0.000510            -0.002287  \n",
       "Week_number              0.981569 -0.294069            -0.023246  \n",
       "Month_number             1.000000 -0.302305            -0.024031  \n",
       "Year                    -0.302305  1.000000             0.012587  \n",
       "Adults_avg_audience     -0.024031  0.012587             1.000000  "
      ]
     },
     "execution_count": 46,
     "metadata": {},
     "output_type": "execute_result"
    }
   ],
   "source": [
    "dfml.corr()"
   ]
  },
  {
   "cell_type": "code",
   "execution_count": 17,
   "metadata": {},
   "outputs": [
    {
     "data": {
      "text/html": [
       "<div>\n",
       "<style scoped>\n",
       "    .dataframe tbody tr th:only-of-type {\n",
       "        vertical-align: middle;\n",
       "    }\n",
       "\n",
       "    .dataframe tbody tr th {\n",
       "        vertical-align: top;\n",
       "    }\n",
       "\n",
       "    .dataframe thead th {\n",
       "        text-align: right;\n",
       "    }\n",
       "</style>\n",
       "<table border=\"1\" class=\"dataframe\">\n",
       "  <thead>\n",
       "    <tr style=\"text-align: right;\">\n",
       "      <th></th>\n",
       "      <th>Hour</th>\n",
       "      <th>Minute</th>\n",
       "      <th>Year</th>\n",
       "      <th>Adults_avg_audience</th>\n",
       "      <th>Day_name_Monday</th>\n",
       "      <th>Day_name_Saturday</th>\n",
       "      <th>Day_name_Sunday</th>\n",
       "      <th>Day_name_Thursday</th>\n",
       "      <th>Day_name_Tuesday</th>\n",
       "      <th>Day_name_Wednesday</th>\n",
       "      <th>...</th>\n",
       "      <th>Genre_MUSICA</th>\n",
       "      <th>Genre_OTROS</th>\n",
       "      <th>Genre_PROGRAMAS DE VENTAS</th>\n",
       "      <th>Genre_PUBLICIDAD</th>\n",
       "      <th>Genre_RELIGIOSOS</th>\n",
       "      <th>Genre_TOROS</th>\n",
       "      <th>Public_DESCONOCIDO</th>\n",
       "      <th>Public_FAMILIAR</th>\n",
       "      <th>Public_NIÑOS</th>\n",
       "      <th>Public_NO DISPONIBLE</th>\n",
       "    </tr>\n",
       "  </thead>\n",
       "  <tbody>\n",
       "    <tr>\n",
       "      <th>Hour</th>\n",
       "      <td>1.000000</td>\n",
       "      <td>-0.000048</td>\n",
       "      <td>-0.000174</td>\n",
       "      <td>0.325192</td>\n",
       "      <td>0.000680</td>\n",
       "      <td>0.000037</td>\n",
       "      <td>-0.000092</td>\n",
       "      <td>-0.000395</td>\n",
       "      <td>-0.000454</td>\n",
       "      <td>0.000038</td>\n",
       "      <td>...</td>\n",
       "      <td>-0.207130</td>\n",
       "      <td>-0.010537</td>\n",
       "      <td>-0.185924</td>\n",
       "      <td>0.160437</td>\n",
       "      <td>-0.010129</td>\n",
       "      <td>-0.000437</td>\n",
       "      <td>0.002667</td>\n",
       "      <td>-0.052339</td>\n",
       "      <td>-0.040208</td>\n",
       "      <td>0.160249</td>\n",
       "    </tr>\n",
       "    <tr>\n",
       "      <th>Minute</th>\n",
       "      <td>-0.000048</td>\n",
       "      <td>1.000000</td>\n",
       "      <td>-0.000031</td>\n",
       "      <td>-0.001658</td>\n",
       "      <td>0.000065</td>\n",
       "      <td>-0.000025</td>\n",
       "      <td>-0.000011</td>\n",
       "      <td>-0.000021</td>\n",
       "      <td>-0.000036</td>\n",
       "      <td>-0.000010</td>\n",
       "      <td>...</td>\n",
       "      <td>0.002506</td>\n",
       "      <td>-0.001614</td>\n",
       "      <td>-0.000029</td>\n",
       "      <td>0.020572</td>\n",
       "      <td>-0.010987</td>\n",
       "      <td>-0.000934</td>\n",
       "      <td>-0.000566</td>\n",
       "      <td>-0.004771</td>\n",
       "      <td>-0.005616</td>\n",
       "      <td>0.020393</td>\n",
       "    </tr>\n",
       "    <tr>\n",
       "      <th>Year</th>\n",
       "      <td>-0.000174</td>\n",
       "      <td>-0.000031</td>\n",
       "      <td>1.000000</td>\n",
       "      <td>-0.007468</td>\n",
       "      <td>-0.006512</td>\n",
       "      <td>0.002844</td>\n",
       "      <td>-0.003409</td>\n",
       "      <td>0.002691</td>\n",
       "      <td>-0.001229</td>\n",
       "      <td>0.002814</td>\n",
       "      <td>...</td>\n",
       "      <td>-0.006453</td>\n",
       "      <td>-0.007600</td>\n",
       "      <td>0.014192</td>\n",
       "      <td>-0.001805</td>\n",
       "      <td>0.005874</td>\n",
       "      <td>0.000580</td>\n",
       "      <td>-0.002415</td>\n",
       "      <td>-0.006305</td>\n",
       "      <td>-0.015322</td>\n",
       "      <td>-0.001710</td>\n",
       "    </tr>\n",
       "    <tr>\n",
       "      <th>Adults_avg_audience</th>\n",
       "      <td>0.325192</td>\n",
       "      <td>-0.001658</td>\n",
       "      <td>-0.007468</td>\n",
       "      <td>1.000000</td>\n",
       "      <td>0.009787</td>\n",
       "      <td>-0.020003</td>\n",
       "      <td>0.008283</td>\n",
       "      <td>-0.001425</td>\n",
       "      <td>0.004370</td>\n",
       "      <td>0.002761</td>\n",
       "      <td>...</td>\n",
       "      <td>-0.111874</td>\n",
       "      <td>-0.002220</td>\n",
       "      <td>-0.146134</td>\n",
       "      <td>0.046294</td>\n",
       "      <td>-0.027273</td>\n",
       "      <td>0.000775</td>\n",
       "      <td>0.001762</td>\n",
       "      <td>-0.063283</td>\n",
       "      <td>-0.047074</td>\n",
       "      <td>0.046148</td>\n",
       "    </tr>\n",
       "    <tr>\n",
       "      <th>Day_name_Monday</th>\n",
       "      <td>0.000680</td>\n",
       "      <td>0.000065</td>\n",
       "      <td>-0.006512</td>\n",
       "      <td>0.009787</td>\n",
       "      <td>1.000000</td>\n",
       "      <td>-0.167064</td>\n",
       "      <td>-0.166293</td>\n",
       "      <td>-0.167003</td>\n",
       "      <td>-0.167053</td>\n",
       "      <td>-0.167063</td>\n",
       "      <td>...</td>\n",
       "      <td>-0.001808</td>\n",
       "      <td>-0.017287</td>\n",
       "      <td>0.006049</td>\n",
       "      <td>0.003223</td>\n",
       "      <td>-0.009440</td>\n",
       "      <td>-0.001414</td>\n",
       "      <td>-0.002782</td>\n",
       "      <td>-0.002763</td>\n",
       "      <td>-0.007065</td>\n",
       "      <td>0.003174</td>\n",
       "    </tr>\n",
       "    <tr>\n",
       "      <th>...</th>\n",
       "      <td>...</td>\n",
       "      <td>...</td>\n",
       "      <td>...</td>\n",
       "      <td>...</td>\n",
       "      <td>...</td>\n",
       "      <td>...</td>\n",
       "      <td>...</td>\n",
       "      <td>...</td>\n",
       "      <td>...</td>\n",
       "      <td>...</td>\n",
       "      <td>...</td>\n",
       "      <td>...</td>\n",
       "      <td>...</td>\n",
       "      <td>...</td>\n",
       "      <td>...</td>\n",
       "      <td>...</td>\n",
       "      <td>...</td>\n",
       "      <td>...</td>\n",
       "      <td>...</td>\n",
       "      <td>...</td>\n",
       "      <td>...</td>\n",
       "    </tr>\n",
       "    <tr>\n",
       "      <th>Genre_TOROS</th>\n",
       "      <td>-0.000437</td>\n",
       "      <td>-0.000934</td>\n",
       "      <td>0.000580</td>\n",
       "      <td>0.000775</td>\n",
       "      <td>-0.001414</td>\n",
       "      <td>0.000394</td>\n",
       "      <td>0.000443</td>\n",
       "      <td>0.000100</td>\n",
       "      <td>0.000357</td>\n",
       "      <td>0.000099</td>\n",
       "      <td>...</td>\n",
       "      <td>-0.000729</td>\n",
       "      <td>-0.000188</td>\n",
       "      <td>-0.000910</td>\n",
       "      <td>-0.001359</td>\n",
       "      <td>-0.000210</td>\n",
       "      <td>1.000000</td>\n",
       "      <td>-0.000028</td>\n",
       "      <td>0.002128</td>\n",
       "      <td>-0.000320</td>\n",
       "      <td>-0.001170</td>\n",
       "    </tr>\n",
       "    <tr>\n",
       "      <th>Public_DESCONOCIDO</th>\n",
       "      <td>0.002667</td>\n",
       "      <td>-0.000566</td>\n",
       "      <td>-0.002415</td>\n",
       "      <td>0.001762</td>\n",
       "      <td>-0.002782</td>\n",
       "      <td>-0.001484</td>\n",
       "      <td>-0.001447</td>\n",
       "      <td>0.003679</td>\n",
       "      <td>-0.000424</td>\n",
       "      <td>0.001306</td>\n",
       "      <td>...</td>\n",
       "      <td>-0.001724</td>\n",
       "      <td>0.048384</td>\n",
       "      <td>-0.002152</td>\n",
       "      <td>-0.003213</td>\n",
       "      <td>-0.000497</td>\n",
       "      <td>-0.000028</td>\n",
       "      <td>1.000000</td>\n",
       "      <td>-0.012455</td>\n",
       "      <td>-0.000755</td>\n",
       "      <td>-0.003214</td>\n",
       "    </tr>\n",
       "    <tr>\n",
       "      <th>Public_FAMILIAR</th>\n",
       "      <td>-0.052339</td>\n",
       "      <td>-0.004771</td>\n",
       "      <td>-0.006305</td>\n",
       "      <td>-0.063283</td>\n",
       "      <td>-0.002763</td>\n",
       "      <td>-0.015707</td>\n",
       "      <td>-0.007645</td>\n",
       "      <td>0.004431</td>\n",
       "      <td>0.004751</td>\n",
       "      <td>0.005402</td>\n",
       "      <td>...</td>\n",
       "      <td>0.136375</td>\n",
       "      <td>0.033421</td>\n",
       "      <td>0.171839</td>\n",
       "      <td>-0.598894</td>\n",
       "      <td>0.036418</td>\n",
       "      <td>0.002128</td>\n",
       "      <td>-0.012455</td>\n",
       "      <td>1.000000</td>\n",
       "      <td>-0.140831</td>\n",
       "      <td>-0.599161</td>\n",
       "    </tr>\n",
       "    <tr>\n",
       "      <th>Public_NIÑOS</th>\n",
       "      <td>-0.040208</td>\n",
       "      <td>-0.005616</td>\n",
       "      <td>-0.015322</td>\n",
       "      <td>-0.047074</td>\n",
       "      <td>-0.007065</td>\n",
       "      <td>0.019118</td>\n",
       "      <td>0.016534</td>\n",
       "      <td>-0.007239</td>\n",
       "      <td>-0.007397</td>\n",
       "      <td>-0.006788</td>\n",
       "      <td>...</td>\n",
       "      <td>-0.019179</td>\n",
       "      <td>-0.004853</td>\n",
       "      <td>-0.024337</td>\n",
       "      <td>-0.036326</td>\n",
       "      <td>-0.005295</td>\n",
       "      <td>-0.000320</td>\n",
       "      <td>-0.000755</td>\n",
       "      <td>-0.140831</td>\n",
       "      <td>1.000000</td>\n",
       "      <td>-0.036342</td>\n",
       "    </tr>\n",
       "    <tr>\n",
       "      <th>Public_NO DISPONIBLE</th>\n",
       "      <td>0.160249</td>\n",
       "      <td>0.020393</td>\n",
       "      <td>-0.001710</td>\n",
       "      <td>0.046148</td>\n",
       "      <td>0.003174</td>\n",
       "      <td>-0.007264</td>\n",
       "      <td>-0.006122</td>\n",
       "      <td>0.004206</td>\n",
       "      <td>0.004360</td>\n",
       "      <td>0.004436</td>\n",
       "      <td>...</td>\n",
       "      <td>-0.082920</td>\n",
       "      <td>-0.021375</td>\n",
       "      <td>-0.103543</td>\n",
       "      <td>0.999555</td>\n",
       "      <td>-0.019279</td>\n",
       "      <td>-0.001170</td>\n",
       "      <td>-0.003214</td>\n",
       "      <td>-0.599161</td>\n",
       "      <td>-0.036342</td>\n",
       "      <td>1.000000</td>\n",
       "    </tr>\n",
       "  </tbody>\n",
       "</table>\n",
       "<p>72 rows × 72 columns</p>\n",
       "</div>"
      ],
      "text/plain": [
       "                          Hour    Minute      Year  Adults_avg_audience  \\\n",
       "Hour                  1.000000 -0.000048 -0.000174             0.325192   \n",
       "Minute               -0.000048  1.000000 -0.000031            -0.001658   \n",
       "Year                 -0.000174 -0.000031  1.000000            -0.007468   \n",
       "Adults_avg_audience   0.325192 -0.001658 -0.007468             1.000000   \n",
       "Day_name_Monday       0.000680  0.000065 -0.006512             0.009787   \n",
       "...                        ...       ...       ...                  ...   \n",
       "Genre_TOROS          -0.000437 -0.000934  0.000580             0.000775   \n",
       "Public_DESCONOCIDO    0.002667 -0.000566 -0.002415             0.001762   \n",
       "Public_FAMILIAR      -0.052339 -0.004771 -0.006305            -0.063283   \n",
       "Public_NIÑOS         -0.040208 -0.005616 -0.015322            -0.047074   \n",
       "Public_NO DISPONIBLE  0.160249  0.020393 -0.001710             0.046148   \n",
       "\n",
       "                      Day_name_Monday  Day_name_Saturday  Day_name_Sunday  \\\n",
       "Hour                         0.000680           0.000037        -0.000092   \n",
       "Minute                       0.000065          -0.000025        -0.000011   \n",
       "Year                        -0.006512           0.002844        -0.003409   \n",
       "Adults_avg_audience          0.009787          -0.020003         0.008283   \n",
       "Day_name_Monday              1.000000          -0.167064        -0.166293   \n",
       "...                               ...                ...              ...   \n",
       "Genre_TOROS                 -0.001414           0.000394         0.000443   \n",
       "Public_DESCONOCIDO          -0.002782          -0.001484        -0.001447   \n",
       "Public_FAMILIAR             -0.002763          -0.015707        -0.007645   \n",
       "Public_NIÑOS                -0.007065           0.019118         0.016534   \n",
       "Public_NO DISPONIBLE         0.003174          -0.007264        -0.006122   \n",
       "\n",
       "                      Day_name_Thursday  Day_name_Tuesday  Day_name_Wednesday  \\\n",
       "Hour                          -0.000395         -0.000454            0.000038   \n",
       "Minute                        -0.000021         -0.000036           -0.000010   \n",
       "Year                           0.002691         -0.001229            0.002814   \n",
       "Adults_avg_audience           -0.001425          0.004370            0.002761   \n",
       "Day_name_Monday               -0.167003         -0.167053           -0.167063   \n",
       "...                                 ...               ...                 ...   \n",
       "Genre_TOROS                    0.000100          0.000357            0.000099   \n",
       "Public_DESCONOCIDO             0.003679         -0.000424            0.001306   \n",
       "Public_FAMILIAR                0.004431          0.004751            0.005402   \n",
       "Public_NIÑOS                  -0.007239         -0.007397           -0.006788   \n",
       "Public_NO DISPONIBLE           0.004206          0.004360            0.004436   \n",
       "\n",
       "                      ...  Genre_MUSICA  Genre_OTROS  \\\n",
       "Hour                  ...     -0.207130    -0.010537   \n",
       "Minute                ...      0.002506    -0.001614   \n",
       "Year                  ...     -0.006453    -0.007600   \n",
       "Adults_avg_audience   ...     -0.111874    -0.002220   \n",
       "Day_name_Monday       ...     -0.001808    -0.017287   \n",
       "...                   ...           ...          ...   \n",
       "Genre_TOROS           ...     -0.000729    -0.000188   \n",
       "Public_DESCONOCIDO    ...     -0.001724     0.048384   \n",
       "Public_FAMILIAR       ...      0.136375     0.033421   \n",
       "Public_NIÑOS          ...     -0.019179    -0.004853   \n",
       "Public_NO DISPONIBLE  ...     -0.082920    -0.021375   \n",
       "\n",
       "                      Genre_PROGRAMAS DE VENTAS  Genre_PUBLICIDAD  \\\n",
       "Hour                                  -0.185924          0.160437   \n",
       "Minute                                -0.000029          0.020572   \n",
       "Year                                   0.014192         -0.001805   \n",
       "Adults_avg_audience                   -0.146134          0.046294   \n",
       "Day_name_Monday                        0.006049          0.003223   \n",
       "...                                         ...               ...   \n",
       "Genre_TOROS                           -0.000910         -0.001359   \n",
       "Public_DESCONOCIDO                    -0.002152         -0.003213   \n",
       "Public_FAMILIAR                        0.171839         -0.598894   \n",
       "Public_NIÑOS                          -0.024337         -0.036326   \n",
       "Public_NO DISPONIBLE                  -0.103543          0.999555   \n",
       "\n",
       "                      Genre_RELIGIOSOS  Genre_TOROS  Public_DESCONOCIDO  \\\n",
       "Hour                         -0.010129    -0.000437            0.002667   \n",
       "Minute                       -0.010987    -0.000934           -0.000566   \n",
       "Year                          0.005874     0.000580           -0.002415   \n",
       "Adults_avg_audience          -0.027273     0.000775            0.001762   \n",
       "Day_name_Monday              -0.009440    -0.001414           -0.002782   \n",
       "...                                ...          ...                 ...   \n",
       "Genre_TOROS                  -0.000210     1.000000           -0.000028   \n",
       "Public_DESCONOCIDO           -0.000497    -0.000028            1.000000   \n",
       "Public_FAMILIAR               0.036418     0.002128           -0.012455   \n",
       "Public_NIÑOS                 -0.005295    -0.000320           -0.000755   \n",
       "Public_NO DISPONIBLE         -0.019279    -0.001170           -0.003214   \n",
       "\n",
       "                      Public_FAMILIAR  Public_NIÑOS  Public_NO DISPONIBLE  \n",
       "Hour                        -0.052339     -0.040208              0.160249  \n",
       "Minute                      -0.004771     -0.005616              0.020393  \n",
       "Year                        -0.006305     -0.015322             -0.001710  \n",
       "Adults_avg_audience         -0.063283     -0.047074              0.046148  \n",
       "Day_name_Monday             -0.002763     -0.007065              0.003174  \n",
       "...                               ...           ...                   ...  \n",
       "Genre_TOROS                  0.002128     -0.000320             -0.001170  \n",
       "Public_DESCONOCIDO          -0.012455     -0.000755             -0.003214  \n",
       "Public_FAMILIAR              1.000000     -0.140831             -0.599161  \n",
       "Public_NIÑOS                -0.140831      1.000000             -0.036342  \n",
       "Public_NO DISPONIBLE        -0.599161     -0.036342              1.000000  \n",
       "\n",
       "[72 rows x 72 columns]"
      ]
     },
     "execution_count": 17,
     "metadata": {},
     "output_type": "execute_result"
    }
   ],
   "source": [
    "df_prev.corr()"
   ]
  },
  {
   "cell_type": "code",
   "execution_count": 14,
   "metadata": {},
   "outputs": [
    {
     "data": {
      "text/plain": [
       "<matplotlib.axes._subplots.AxesSubplot at 0x19cd8fa2b50>"
      ]
     },
     "execution_count": 14,
     "metadata": {},
     "output_type": "execute_result"
    },
    {
     "data": {
      "image/png": "[encoded data removed]",
      "text/plain": [
       "<Figure size 576x360 with 1 Axes>"
      ]
     },
     "metadata": {
      "needs_background": "light"
     },
     "output_type": "display_data"
    }
   ],
   "source": [
    "#EN EL GRÁFICO SE APRECIA DONDE SE CONCENTRAN LA MAYOR PARTE DE LOS VALORES\n",
    "df_ant.Adults_avg_audience.hist(bins=100, figsize=(8,5))"
   ]
  },
  {
   "cell_type": "code",
   "execution_count": 15,
   "metadata": {},
   "outputs": [
    {
     "data": {
      "text/plain": [
       "<matplotlib.axes._subplots.AxesSubplot at 0x19cedebc880>"
      ]
     },
     "execution_count": 15,
     "metadata": {},
     "output_type": "execute_result"
    },
    {
     "data": {
      "image/png": "[encoded data removed]",
      "text/plain": [
       "<Figure size 576x360 with 1 Axes>"
      ]
     },
     "metadata": {
      "needs_background": "light"
     },
     "output_type": "display_data"
    }
   ],
   "source": [
    "#AUDIENCIA MEDIA POR DÍA\n",
    "dia = df_ant.groupby('Day_name')['Adults_avg_audience'].mean()\n",
    "dia[[\"Monday\", \"Tuesday\", \"Wednesday\", \"Thursday\", \"Friday\", \"Saturday\", \"Sunday\"]].plot(figsize=(8, 5))"
   ]
  },
  {
   "cell_type": "code",
   "execution_count": 16,
   "metadata": {},
   "outputs": [
    {
     "data": {
      "text/plain": [
       "<matplotlib.axes._subplots.AxesSubplot at 0x19dacc437f0>"
      ]
     },
     "execution_count": 16,
     "metadata": {},
     "output_type": "execute_result"
    },
    {
     "data": {
      "image/png": "[encoded data removed]",
      "text/plain": [
       "<Figure size 576x360 with 1 Axes>"
      ]
     },
     "metadata": {
      "needs_background": "light"
     },
     "output_type": "display_data"
    }
   ],
   "source": [
    "#AUDIENCIA MEDIA POR MES\n",
    "mes = df_ant.groupby('Month_name')['Adults_avg_audience'].mean()\n",
    "mes[['January', 'February' ,'March','April', 'May','June','July', 'August', 'September','October','November', 'December']].plot(figsize=(8, 5))"
   ]
  },
  {
   "cell_type": "markdown",
   "metadata": {},
   "source": [
    "#### Conclusiones del análisis preliminar\n",
    "Se observa que las columnas seleccionadas aportan información independiente unas de otras, a excepción del número de semana y el número de mes.\n",
    "A través de los gráficos observamos varias cosas:\n",
    "- La mayor parte de los valores de audiencia se concentran entorno al 0 y al 2. Los valores mayores son los menos.\n",
    "- La audiencia media por días se comporta de tal manera que durante los domingos y lunes se prodecen los picos de máxima audiencia, a lo largo de la semana va bajando, hasta llegar a su valor mínimo el sábado.\n",
    "- En cuanto a la audiencia media por mes, se observa que los meses de verano concentran los valores mínimos, se produce un repunte de agosto a noviembre, en diciembre vuelve a bajar, para luego subir en enero y bajar paulatinamente hasta los meses de verano.\n",
    "\n",
    "Los comportamientos observados a través de las gráficas siguen el patrón normal de consumo televisivo. También se toma la decisión, a través del histograma, de eleminar los valores de audiencia mayores de 10."
   ]
  },
  {
   "cell_type": "code",
   "execution_count": 4,
   "metadata": {},
   "outputs": [],
   "source": [
    "#ELIMINAMOS OUTLIERS\n",
    "df_ant = df_ant[dfml.Adults_avg_audience < 10]"
   ]
  },
  {
   "cell_type": "code",
   "execution_count": null,
   "metadata": {},
   "outputs": [],
   "source": [
    "#CODIFICAMOS LAS VARIABLES CATEGÓRICAS\n",
    "df_prev = pd.get_dummies(df_ant, prefix_sep='_', drop_first=True)"
   ]
  },
  {
   "cell_type": "code",
   "execution_count": 8,
   "metadata": {},
   "outputs": [],
   "source": [
    "#DIVIDIMOS EN TRAIN Y TEST \n",
    "X = df_prev.drop(['Adults_avg_audience','Full_date'], axis=1)\n",
    "y = df_prev.Adults_avg_audience\n",
    "X = X.rename(columns={'Genre_FICCIÓN':'Genre_FICCION','Genre_INFORMACIÓN':'Genre_INFORMACION',\n",
    "                      'Genre_ARTES ESCÉNICAS':'Genre_ARTES ESCENICAS','Public_NIÑOS':'Public_NINOS' })\n",
    "X_train,X_test,y_train,y_test = train_test_split(X, y , test_size = 0.1)"
   ]
  },
  {
   "cell_type": "markdown",
   "metadata": {},
   "source": [
    "# SARIMAX\n",
    "Se desarrolla un pequeño modelo para comprobar su funcionamiento a grandes rasgos, y para ver los resultados que producen los datos cargados."
   ]
  },
  {
   "cell_type": "code",
   "execution_count": 51,
   "metadata": {},
   "outputs": [
    {
     "data": {
      "image/png": "[encoded data removed]",
      "text/plain": [
       "<Figure size 432x288 with 1 Axes>"
      ]
     },
     "metadata": {
      "needs_background": "light"
     },
     "output_type": "display_data"
    },
    {
     "data": {
      "image/png": "[encoded data removed]",
      "text/plain": [
       "<Figure size 432x288 with 1 Axes>"
      ]
     },
     "metadata": {
      "needs_background": "light"
     },
     "output_type": "display_data"
    }
   ],
   "source": [
    "plot_acf(dfsar,lags = 1420, unbiased = True)\n",
    "plot_pacf(dfsar, lags = 40)\n",
    "plt.show()"
   ]
  },
  {
   "cell_type": "code",
   "execution_count": 19,
   "metadata": {},
   "outputs": [
    {
     "name": "stderr",
     "output_type": "stream",
     "text": [
      "C:\\Users\\Marta\\anaconda3\\lib\\site-packages\\statsmodels\\tsa\\base\\tsa_model.py:216: ValueWarning: A date index has been provided, but it has no associated frequency information and so will be ignored when e.g. forecasting.\n",
      "  warnings.warn('A date index has been provided, but it has no'\n",
      "C:\\Users\\Marta\\anaconda3\\lib\\site-packages\\statsmodels\\tsa\\base\\tsa_model.py:220: ValueWarning: A date index has been provided, but it is not monotonic and so will be ignored when e.g. forecasting.\n",
      "  warnings.warn('A date index has been provided, but it is not'\n",
      "C:\\Users\\Marta\\anaconda3\\lib\\site-packages\\statsmodels\\tsa\\base\\tsa_model.py:216: ValueWarning: A date index has been provided, but it has no associated frequency information and so will be ignored when e.g. forecasting.\n",
      "  warnings.warn('A date index has been provided, but it has no'\n",
      "C:\\Users\\Marta\\anaconda3\\lib\\site-packages\\statsmodels\\tsa\\base\\tsa_model.py:220: ValueWarning: A date index has been provided, but it is not monotonic and so will be ignored when e.g. forecasting.\n",
      "  warnings.warn('A date index has been provided, but it is not'\n",
      "C:\\Users\\Marta\\anaconda3\\lib\\site-packages\\statsmodels\\tsa\\base\\tsa_model.py:580: ValueWarning: No supported index is available. Prediction results will be given with an integer index beginning at `start`.\n",
      "  warnings.warn('No supported index is available.'\n"
     ]
    }
   ],
   "source": [
    "model = SARIMAX(dfsar, order = (3, 0, 2)).fit()\n",
    "prediction = model.get_forecast(steps = 1400)"
   ]
  },
  {
   "cell_type": "code",
   "execution_count": 52,
   "metadata": {},
   "outputs": [
    {
     "data": {
      "image/png": "[encoded data removed]",
      "text/plain": [
       "<Figure size 1008x576 with 4 Axes>"
      ]
     },
     "metadata": {
      "needs_background": "light"
     },
     "output_type": "display_data"
    }
   ],
   "source": [
    "model.plot_diagnostics(figsize = (14, 8))\n",
    "plt.show()"
   ]
  },
  {
   "cell_type": "markdown",
   "metadata": {},
   "source": [
    "# Random Forest\n",
    "Se realizan varias pruebas con este modelo, y se valora su funcionamiento a través del error medio absoluto. Con este dato lo compararemos con futuros modelos."
   ]
  },
  {
   "cell_type": "code",
   "execution_count": 10,
   "metadata": {},
   "outputs": [
    {
     "name": "stdout",
     "output_type": "stream",
     "text": [
      "0.41634236372482647\n"
     ]
    }
   ],
   "source": [
    "#SE QUITÓ FECHA,DATE,GENRE,AGE_RATING,PUBLIC Y TITULO(SIN HOR Y MIN)\n",
    "X_train,X_test,y_train,y_test = train_test_split(cop, y , test_size = 0.1)\n",
    "clf = RandomForestRegressor(max_depth=4)\n",
    "clf.fit(X_train, y_train)\n",
    "print(mean_absolute_error(clf.predict(X_test),y_test))"
   ]
  },
  {
   "cell_type": "code",
   "execution_count": 11,
   "metadata": {},
   "outputs": [
    {
     "name": "stdout",
     "output_type": "stream",
     "text": [
      "0.39519689874904534\n"
     ]
    }
   ],
   "source": [
    "#TODAS LAS COLUMNAS INCLUIDAS(SIN HOR Y MIN)\n",
    "clf = RandomForestRegressor(max_depth=5)\n",
    "clf.fit(X_train, y_train)\n",
    "print(mean_absolute_error(clf.predict(X_test),y_test))"
   ]
  },
  {
   "cell_type": "code",
   "execution_count": 11,
   "metadata": {},
   "outputs": [
    {
     "name": "stdout",
     "output_type": "stream",
     "text": [
      "0.36396723181238666\n"
     ]
    }
   ],
   "source": [
    "#SE QUITÓ FECHA,DATE,GENRE,AGE_RATING,PUBLIC Y TITULO(SIN HOR Y MIN)\n",
    "X_train,X_test,y_train,y_test = train_test_split(cop, y , test_size = 0.1)\n",
    "clf = RandomForestRegressor(max_depth=6)\n",
    "clf.fit(X_train, y_train)\n",
    "print(mean_absolute_error(clf.predict(X_test),y_test))"
   ]
  },
  {
   "cell_type": "code",
   "execution_count": 22,
   "metadata": {},
   "outputs": [
    {
     "name": "stdout",
     "output_type": "stream",
     "text": [
      "0.3248287151294288\n"
     ]
    }
   ],
   "source": [
    "#SE QUITÓ 'Full_date','Title/Descrip','Production_comp','Age_rating','Date','Audience_checker'\n",
    "X_train,X_test,y_train,y_test = train_test_split(cop, y , test_size = 0.1)\n",
    "clf = RandomForestRegressor(max_depth=6)\n",
    "clf.fit(X_train, y_train)\n",
    "print(mean_absolute_error(clf.predict(X_test),y_test))"
   ]
  },
  {
   "cell_type": "code",
   "execution_count": 33,
   "metadata": {},
   "outputs": [
    {
     "name": "stdout",
     "output_type": "stream",
     "text": [
      "0.32461471645174933\n"
     ]
    }
   ],
   "source": [
    "#SE QUITÓ 'Full_date','Title/Descrip','Production_comp','Age_rating','Date','Audience_checker'\n",
    "X_train,X_test,y_train,y_test = train_test_split(cop, y , test_size = 0.1)\n",
    "reg = RandomForestRegressor(max_depth=6 , min_samples_split= 3 , min_samples_leaf= 2)\n",
    "reg.fit(X_train, y_train)\n",
    "print(mean_absolute_error(reg.predict(X_test),y_test))"
   ]
  },
  {
   "cell_type": "markdown",
   "metadata": {},
   "source": [
    "# Gradien Boost\n",
    "En esta parte se realiza una única prueba con el modelo Gradient Boost. Se espera obtener mejores resultados que con el Random Forest."
   ]
  },
  {
   "cell_type": "code",
   "execution_count": 13,
   "metadata": {},
   "outputs": [
    {
     "name": "stdout",
     "output_type": "stream",
     "text": [
      "0.16326332994903617\n",
      "0.3644429963409199\n"
     ]
    }
   ],
   "source": [
    "#GRADIENTBOOST SIN'Full_date','Title/Descrip','Production_comp','Age_rating','Date','Audience_checker'\n",
    "X_train,X_test,y_train,y_test = train_test_split(X, y , test_size = 0.1)\n",
    "clf = GradientBoostingRegressor(max_depth=6)\n",
    "clf.fit(X_train, y_train)\n",
    "print(mean_absolute_error(clf.predict(X_test),y_test))\n",
    "print(sqrt(mean_squared_error(y_test,clf.predict(X_test))))\n",
    "\n",
    "filename = 'modelo_uno_LightGBM.pkl'\n",
    "pickle.dump(lghtreg, open(filename, 'wb'))"
   ]
  },
  {
   "cell_type": "markdown",
   "metadata": {},
   "source": [
    "# LightGBM\n",
    "A continuación se prueba un algoritmo relativamente nuevo, con ciertas similitudes con el Gradient Boost. Acudir a la memoria del proyecto para más información."
   ]
  },
  {
   "cell_type": "code",
   "execution_count": 14,
   "metadata": {},
   "outputs": [
    {
     "name": "stdout",
     "output_type": "stream",
     "text": [
      "0.14454808644643\n",
      "0.32813362845185584\n"
     ]
    }
   ],
   "source": [
    "#PROBAMOS LIGHTGBM\n",
    "d_train = lgb.Dataset(X_train, label=y_train)\n",
    "params = {}\n",
    "params['learning_rate'] = 0.3\n",
    "params['boosting_type'] = 'gbdt'\n",
    "params['application'] = 'regression'\n",
    "params['metric'] = 'mae'\n",
    "params['num_leaves'] = 64\n",
    "params['min_data'] = 1100\n",
    "params['max_depth'] = 6\n",
    "lghtreg = lgb.train(params, d_train, 100)\n",
    "print(mean_absolute_error(lghtreg.predict(X_test),y_test))\n",
    "print(sqrt(mean_squared_error(y_test,lghtreg.predict(X_test))))"
   ]
  },
  {
   "cell_type": "code",
   "execution_count": 11,
   "metadata": {},
   "outputs": [
    {
     "name": "stdout",
     "output_type": "stream",
     "text": [
      "-0.14115249518861311 LGBMRegressor(application='regression', learning_rate=0.3, max_depth=5,\n",
      "              metric='mae', min_data=1100, n_estimators=300, num_leaves=100) {'num_leaves': 100, 'n_estimators': 300, 'min_data': 1100, 'metric': 'mae', 'max_depth': 5, 'learning_rate': 0.3, 'boosting_type': 'gbdt', 'application': 'regression'}\n"
     ]
    }
   ],
   "source": [
    "#BUSQUEDA DE HIPERPARAMETROS OPTIMIZADOS \n",
    "param_grid = {}\n",
    "param_grid['learning_rate'] = [0.3,0.03,0.001,0.1]\n",
    "param_grid['boosting_type'] = ['gbdt','dart']\n",
    "param_grid['application'] = ['regression']\n",
    "param_grid['metric'] = ['mae']\n",
    "param_grid['num_leaves'] = [64,50,40,30,70,100]\n",
    "param_grid['min_data'] = [500,700,900,1100,1200]\n",
    "param_grid['max_depth'] = [3,4,5,6,7]\n",
    "param_grid['n_estimators'] =[100,200,300]\n",
    "\n",
    "reg_test = RandomizedSearchCV(lgb.LGBMRegressor(),\n",
    " param_grid,n_iter=10, scoring='neg_mean_absolute_error')\n",
    "# Fit will test all of the combinations\n",
    "reg_test.fit(X_train,y_train)\n",
    "# Best estimator and best parameters\n",
    "print(reg_test.best_score_,\n",
    "reg_test.best_estimator_,\n",
    "reg_test.best_params_)\n",
    "\n",
    "filename = 'modelo_tres_0-141_LightGBM.pkl'\n",
    "pickle.dump(reg_test, open(filename, 'wb'))"
   ]
  },
  {
   "cell_type": "code",
   "execution_count": 61,
   "metadata": {},
   "outputs": [
    {
     "name": "stderr",
     "output_type": "stream",
     "text": [
      "C:\\Users\\Marta\\anaconda3\\lib\\site-packages\\lightgbm\\engine.py:148: UserWarning: Found `n_estimators` in params. Will use it instead of argument\n",
      "  warnings.warn(\"Found `{}` in params. Will use it instead of argument\".format(alias))\n"
     ]
    },
    {
     "name": "stdout",
     "output_type": "stream",
     "text": [
      "0.12865160835484\n"
     ]
    }
   ],
   "source": [
    "#PROBAMOS LIGHTGBM CON LAS COLUMNAS DE WEEKNUMBER Y TIMEMACHINE INCLUIDAS\n",
    "d_train = lgb.Dataset(X_train, label=y_train)\n",
    "params = {}\n",
    "params['learning_rate'] = 0.3\n",
    "params['boosting_type'] = 'gbdt'\n",
    "params['application'] = 'regression'\n",
    "params['metric'] = 'mae'\n",
    "params['num_leaves'] = 55\n",
    "params['min_data'] = 950\n",
    "params['max_depth'] = 7\n",
    "params['n_estimators'] = 300\n",
    "lghtreg = lgb.train(params, d_train, 100)\n",
    "print(mean_absolute_error(lghtreg.predict(X_test),y_test))"
   ]
  },
  {
   "cell_type": "code",
   "execution_count": 44,
   "metadata": {},
   "outputs": [
    {
     "name": "stdout",
     "output_type": "stream",
     "text": [
      "0.10318713875510609\n",
      "0.20861872742560522\n"
     ]
    }
   ],
   "source": [
    "#MODELO SIN OUTLIERS\n",
    "reg = lgb.LGBMRegressor(application='regression', learning_rate=0.3, max_depth=7,\n",
    "              metric='mae', min_data=2500, n_estimators=950, num_leaves=100) \n",
    "reg.fit(X_train,y_train)\n",
    "print(mean_absolute_error(y_test,reg.predict(X_test)))\n",
    "print(sqrt(mean_squared_error(y_test,reg.predict(X_test))))\n",
    "\n",
    "filename = 'modelo_catorce_0_1032_LightGBM.pkl'\n",
    "pickle.dump(reg, open(filename, 'wb'))"
   ]
  },
  {
   "cell_type": "code",
   "execution_count": 38,
   "metadata": {},
   "outputs": [
    {
     "name": "stdout",
     "output_type": "stream",
     "text": [
      "0.1191071586914255\n",
      "0.24976117025667047\n"
     ]
    }
   ],
   "source": [
    "#MODELO CON OUTLIERS\n",
    "reg = lgb.LGBMRegressor(application='regression', learning_rate=0.3, max_depth=7,\n",
    "              metric='mae', min_data=2500, n_estimators=950, num_leaves=100) \n",
    "reg.fit(X_train,y_train)\n",
    "print(mean_absolute_error(y_test,reg.predict(X_test)))\n",
    "print(sqrt(mean_squared_error(y_test,reg.predict(X_test))))\n",
    "\n",
    "filename = 'modelo_quince_conoutliers_LightGBM.pkl'\n",
    "pickle.dump(reg, open(filename, 'wb'))"
   ]
  },
  {
   "cell_type": "code",
   "execution_count": 55,
   "metadata": {},
   "outputs": [],
   "source": [
    "#GUARDAMOS EL MODELO LIGHTGBMREG, CON UN MAE DE 0.1214\n",
    "filename = 'modelo_trece_0_1123_LightGBM.pkl'\n",
    "pickle.dump(reg, open(filename, 'wb'))"
   ]
  },
  {
   "cell_type": "code",
   "execution_count": 11,
   "metadata": {},
   "outputs": [
    {
     "name": "stdout",
     "output_type": "stream",
     "text": [
      "0.15507219746611256\n"
     ]
    }
   ],
   "source": [
    "reg = lgb.LGBMRegressor(application='regression', learning_rate=0.3, max_depth=7,\n",
    "              metric='mae', min_data=2000, n_estimators=850, num_leaves=90) \n",
    "reg.fit(X_train,y_train)\n",
    "print(mean_absolute_error(reg.predict(X_test),y_test))"
   ]
  },
  {
   "cell_type": "code",
   "execution_count": 44,
   "metadata": {},
   "outputs": [
    {
     "name": "stdout",
     "output_type": "stream",
     "text": [
      "-0.12501066019687906 LGBMRegressor(application='regression', learning_rate=0.3, max_depth=7,\n",
      "              metric='mae', min_data=700, n_estimators=300, num_leaves=40) {'num_leaves': 40, 'n_estimators': 300, 'min_data': 700, 'metric': 'mae', 'max_depth': 7, 'learning_rate': 0.3, 'boosting_type': 'gbdt', 'application': 'regression'}\n"
     ]
    }
   ],
   "source": [
    "#BUSQUEDA DE HIPERPARAMETROS OPTIMIZADOS \n",
    "\n",
    "param_grid = {}\n",
    "param_grid['learning_rate'] = [0.3,0.03,0.001,0.1]\n",
    "param_grid['boosting_type'] = ['gbdt','dart']\n",
    "param_grid['application'] = ['regression']\n",
    "param_grid['metric'] = ['mae']\n",
    "param_grid['num_leaves'] = [64,50,40,30,70,100]\n",
    "param_grid['min_data'] = [500,700,900,1100,1200]\n",
    "param_grid['max_depth'] = [3,4,5,6,7]\n",
    "param_grid['n_estimators'] =[100,200,300]\n",
    "\n",
    "reg_test = RandomizedSearchCV(lgb.LGBMRegressor(),\n",
    " param_grid,n_iter=8, scoring='neg_mean_absolute_error')\n",
    "# Fit will test all of the combinations\n",
    "reg_test.fit(X_train,y_train)\n",
    "# Best estimator and best parameters\n",
    "print(reg_test.best_score_,\n",
    "reg_test.best_estimator_,\n",
    "reg_test.best_params_)"
   ]
  },
  {
   "cell_type": "code",
   "execution_count": 7,
   "metadata": {},
   "outputs": [
    {
     "name": "stdout",
     "output_type": "stream",
     "text": [
      "-0.1029788871194625 LGBMRegressor(application='regression', learning_rate=0.3, max_depth=7,\n",
      "              metric='mae', min_data=2000, n_estimators=950, num_leaves=110) {'num_leaves': 110, 'n_estimators': 950, 'min_data': 2000, 'metric': 'mae', 'max_depth': 7, 'learning_rate': 0.3, 'boosting_type': 'gbdt', 'application': 'regression'}\n"
     ]
    },
    {
     "ename": "NameError",
     "evalue": "name 'lghtreg' is not defined",
     "output_type": "error",
     "traceback": [
      "\u001b[1;31m---------------------------------------------------------------------------\u001b[0m",
      "\u001b[1;31mNameError\u001b[0m                                 Traceback (most recent call last)",
      "\u001b[1;32m<ipython-input-7-d11a69ff55d1>\u001b[0m in \u001b[0;36m<module>\u001b[1;34m\u001b[0m\n\u001b[0;32m     17\u001b[0m \u001b[0mreg_test\u001b[0m\u001b[1;33m.\u001b[0m\u001b[0mbest_estimator_\u001b[0m\u001b[1;33m,\u001b[0m\u001b[1;33m\u001b[0m\u001b[1;33m\u001b[0m\u001b[0m\n\u001b[0;32m     18\u001b[0m reg_test.best_params_)\n\u001b[1;32m---> 19\u001b[1;33m \u001b[0mprint\u001b[0m\u001b[1;33m(\u001b[0m\u001b[0mmean_absolute_error\u001b[0m\u001b[1;33m(\u001b[0m\u001b[0my_test\u001b[0m\u001b[1;33m,\u001b[0m\u001b[0mlghtreg\u001b[0m\u001b[1;33m.\u001b[0m\u001b[0mpredict\u001b[0m\u001b[1;33m(\u001b[0m\u001b[0mX_test\u001b[0m\u001b[1;33m)\u001b[0m\u001b[1;33m)\u001b[0m\u001b[1;33m)\u001b[0m\u001b[1;33m\u001b[0m\u001b[1;33m\u001b[0m\u001b[0m\n\u001b[0m\u001b[0;32m     20\u001b[0m \u001b[0mprint\u001b[0m\u001b[1;33m(\u001b[0m\u001b[0msqrt\u001b[0m\u001b[1;33m(\u001b[0m\u001b[0mmean_squared_error\u001b[0m\u001b[1;33m(\u001b[0m\u001b[0my_test\u001b[0m\u001b[1;33m,\u001b[0m\u001b[0mreg\u001b[0m\u001b[1;33m.\u001b[0m\u001b[0mpredict\u001b[0m\u001b[1;33m(\u001b[0m\u001b[0mX_test\u001b[0m\u001b[1;33m)\u001b[0m\u001b[1;33m)\u001b[0m\u001b[1;33m)\u001b[0m\u001b[1;33m)\u001b[0m\u001b[1;33m\u001b[0m\u001b[1;33m\u001b[0m\u001b[0m\n",
      "\u001b[1;31mNameError\u001b[0m: name 'lghtreg' is not defined"
     ]
    }
   ],
   "source": [
    "param_grid = {}\n",
    "param_grid['learning_rate'] = [0.3]\n",
    "param_grid['boosting_type'] = ['gbdt']\n",
    "param_grid['application'] = ['regression']\n",
    "param_grid['metric'] = ['mae']\n",
    "param_grid['num_leaves'] = [95,110]\n",
    "param_grid['min_data'] = [2000,2200]\n",
    "param_grid['max_depth'] = [7]\n",
    "param_grid['n_estimators'] =[950,850]\n",
    "\n",
    "reg_test = RandomizedSearchCV(lgb.LGBMRegressor(),\n",
    " param_grid,n_iter=7, scoring='neg_mean_absolute_error')\n",
    "# Fit will test all of the combinations\n",
    "reg_test.fit(X_train,y_train)\n",
    "# Best estimator and best parameters\n",
    "print(reg_test.best_score_,\n",
    "reg_test.best_estimator_,\n",
    "reg_test.best_params_)\n",
    "print(mean_absolute_error(y_test,reg_test.predict(X_test)))\n",
    "print(sqrt(mean_squared_error(y_test,reg_test.predict(X_test))))"
   ]
  },
  {
   "cell_type": "code",
   "execution_count": 9,
   "metadata": {},
   "outputs": [
    {
     "name": "stdout",
     "output_type": "stream",
     "text": [
      "0.10174006850764598\n",
      "0.2048359196638323\n"
     ]
    }
   ],
   "source": [
    "#MODELO CON PARAMETROS OPTIMIZADOS\n",
    "regres_lgbm = lgb.LGBMRegressor(application='regression', learning_rate=0.3, max_depth=7,\n",
    "              metric='mae', min_data=2000, n_estimators=950, num_leaves=110) \n",
    "regres_lgbm.fit(X_train,y_train)\n",
    "print(mean_absolute_error(y_test,regres_lgbm.predict(X_test)))\n",
    "print(sqrt(mean_squared_error(y_test,regres_lgbm.predict(X_test))))\n",
    "\n",
    "filename = 'modelo_DIECISEIS_sinoutliers_opt_0_1017_LightGBM.pkl'\n",
    "pickle.dump(regres_lgbm, open(filename, 'wb'))"
   ]
  },
  {
   "cell_type": "code",
   "execution_count": 7,
   "metadata": {},
   "outputs": [
    {
     "name": "stdout",
     "output_type": "stream",
     "text": [
      "-0.10189803409568868 LGBMRegressor(application='regression', learning_rate=0.3, max_depth=7,\n",
      "              metric='mae', min_data=2000, n_estimators=1050, num_leaves=210) {'num_leaves': 210, 'n_estimators': 1050, 'min_data': 2000, 'metric': 'mae', 'max_depth': 7, 'learning_rate': 0.3, 'boosting_type': 'gbdt', 'application': 'regression'}\n",
      "0.10086322113297118\n",
      "0.20280284805203747\n"
     ]
    }
   ],
   "source": [
    "param_grid = {}\n",
    "param_grid['learning_rate'] = [0.3]\n",
    "param_grid['boosting_type'] = ['gbdt']\n",
    "param_grid['application'] = ['regression']\n",
    "param_grid['metric'] = ['mae']\n",
    "param_grid['num_leaves'] = [210,110]\n",
    "param_grid['min_data'] = [2000,2300]\n",
    "param_grid['max_depth'] = [7]\n",
    "param_grid['n_estimators'] =[950,1050]\n",
    "\n",
    "reg_test = RandomizedSearchCV(lgb.LGBMRegressor(),\n",
    " param_grid,n_iter=7, scoring='neg_mean_absolute_error')\n",
    "# Fit will test all of the combinations\n",
    "reg_test.fit(X_train,y_train)\n",
    "# Best estimator and best parameters\n",
    "print(reg_test.best_score_,\n",
    "reg_test.best_estimator_,\n",
    "reg_test.best_params_)\n",
    "print(mean_absolute_error(y_test,reg_test.predict(X_test)))\n",
    "print(sqrt(mean_squared_error(y_test,reg_test.predict(X_test))))"
   ]
  },
  {
   "cell_type": "code",
   "execution_count": 7,
   "metadata": {},
   "outputs": [
    {
     "name": "stdout",
     "output_type": "stream",
     "text": [
      "0.1033362168970056\n",
      "0.20950230683812346\n"
     ]
    }
   ],
   "source": [
    "reg_lgbm_opt = lgb.LGBMRegressor(application='regression', learning_rate=0.3, max_depth=7,metric='mae', min_data=2000, \n",
    "              n_estimators=1050, num_leaves=210)\n",
    "reg_lgbm_opt.fit(X_train,y_train)\n",
    "print(mean_absolute_error(y_test,reg_lgbm_opt.predict(X_test)))\n",
    "print(sqrt(mean_squared_error(y_test,reg_lgbm_opt.predict(X_test))))\n",
    "\n",
    "filename = 'modelo_diecisiete_sinoutliers_opt_0_1033_LightGBM.pkl'\n",
    "pickle.dump(reg_lgbm_opt, open(filename, 'wb'))"
   ]
  },
  {
   "cell_type": "markdown",
   "metadata": {},
   "source": [
    "## Conclusion\n",
    "Tras haber analizado distintos modelos, se escoge el LightGBM como algoritmo definitivo. Se puede observar que las métricas utilizas para cuantificar la precisión del modelo resultan mínimas para este algoritmo"
   ]
  },
  {
   "cell_type": "markdown",
   "metadata": {},
   "source": [
    "# Predicción en contínuo\n",
    "Se dispone de un dataframe ficticio aportado por la agencia de medios. Corresponde al año 2021, y con el se realizarán predicciones para la totalidad del año. Una vez realizadas las predicciones, se alamacenarán con el resto de datos para su posterior visualización."
   ]
  },
  {
   "cell_type": "code",
   "execution_count": 3,
   "metadata": {},
   "outputs": [],
   "source": [
    "dfcont = pd.read_csv('df_ficticio.csv',parse_dates=[0],usecols=['Full_date','Channel','Simul_cast_channel','Sales_house'\n",
    "                                                        ,'Day_name','Month_name'\n",
    "                                                        ,'Public','Year','Hour','Minute','Day_number','Month_number','Week_number'\n",
    "                                                        ,'Time_frame','Genre','Adults_avg_audience'])"
   ]
  },
  {
   "cell_type": "code",
   "execution_count": 4,
   "metadata": {},
   "outputs": [],
   "source": [
    "dfcod = pd.get_dummies(dfcont,prefix_sep='_', drop_first=True)\n",
    "dfcod = dfcod.rename(columns={'Genre_FICCIÓN':'Genre_FICCION','Genre_INFORMACIÓN':'Genre_INFORMACION',\n",
    "                      'Genre_ARTES ESCÉNICAS':'Genre_ARTES ESCENICAS','Public_NIÑOS':'Public_NINOS' })"
   ]
  },
  {
   "cell_type": "code",
   "execution_count": 5,
   "metadata": {},
   "outputs": [],
   "source": [
    "filename = 'modelo_diecisiete_sinoutliers_opt_0_1033_LightGBM.pkl'\n",
    "loaded_model = pickle.load(open(filename, 'rb'))\n",
    "dfcont.Adults_avg_audience = loaded_model.predict(dfcod.drop(['Adults_avg_audience','Full_date'], axis=1))"
   ]
  },
  {
   "cell_type": "code",
   "execution_count": 6,
   "metadata": {},
   "outputs": [
    {
     "name": "stderr",
     "output_type": "stream",
     "text": [
      "C:\\Users\\Marta\\anaconda3\\lib\\site-packages\\numpy\\lib\\arraysetops.py:569: FutureWarning: elementwise comparison failed; returning scalar instead, but in the future will perform elementwise comparison\n",
      "  mask |= (ar1 == a)\n"
     ]
    }
   ],
   "source": [
    "dfcontcomp = pd.read_csv('df_ficticio.csv', index_col=0)\n",
    "dfmltot = pd.read_csv('df_ml.csv',index_col=0)"
   ]
  },
  {
   "cell_type": "code",
   "execution_count": 7,
   "metadata": {},
   "outputs": [],
   "source": [
    "dfcontcomp.Adults_avg_audience = dfcont.Adults_avg_audience.values"
   ]
  },
  {
   "cell_type": "code",
   "execution_count": 8,
   "metadata": {},
   "outputs": [],
   "source": [
    "dfinal = pd.concat([dfmltot,dfcontcomp])"
   ]
  },
  {
   "cell_type": "code",
   "execution_count": 9,
   "metadata": {},
   "outputs": [],
   "source": [
    "dfinal.reset_index(drop=True, inplace=True)"
   ]
  },
  {
   "cell_type": "code",
   "execution_count": 10,
   "metadata": {},
   "outputs": [],
   "source": [
    "dfinal.to_csv('df_ml_21.csv')"
   ]
  }
 ],
 "metadata": {
  "kernelspec": {
   "display_name": "Python 3",
   "language": "python",
   "name": "python3"
  },
  "language_info": {
   "codemirror_mode": {
    "name": "ipython",
    "version": 3
   },
   "file_extension": ".py",
   "mimetype": "text/x-python",
   "name": "python",
   "nbconvert_exporter": "python",
   "pygments_lexer": "ipython3",
   "version": "3.8.3"
  }
 },
 "nbformat": 4,
 "nbformat_minor": 4
}
